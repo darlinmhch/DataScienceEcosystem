{
  "nbformat": 4,
  "nbformat_minor": 0,
  "metadata": {
    "colab": {
      "provenance": []
    },
    "kernelspec": {
      "name": "python3",
      "display_name": "Python 3"
    },
    "language_info": {
      "name": "python"
    }
  },
  "cells": [
    {
      "cell_type": "markdown",
      "source": [
        "**Ejercicio 1: Crear un cuaderno de Jupyter Notebook**"
      ],
      "metadata": {
        "id": "adWV6TGwoggF"
      }
    },
    {
      "cell_type": "markdown",
      "source": [
        "# Data Science Tools and Ecosystem\n"
      ],
      "metadata": {
        "id": "H8BEwt_WlYZj"
      }
    },
    {
      "cell_type": "markdown",
      "source": [
        "**Ejercicio 2: Crear una celda de Markdown con el título del bloc de notas**"
      ],
      "metadata": {
        "id": "3cpuNsnYokZj"
      }
    },
    {
      "cell_type": "markdown",
      "source": [
        "**Ejercicio 3 - Crear una celda de Markdown para una introducción**"
      ],
      "metadata": {
        "id": "LCNHrUZCoqKF"
      }
    },
    {
      "cell_type": "markdown",
      "source": [
        "In this notebook, Data Science Tools and Ecosystem are summarized.\n"
      ],
      "metadata": {
        "id": "EgcqsRmil69j"
      }
    },
    {
      "cell_type": "markdown",
      "source": [
        "**Ejercicio 4: Crear una celda de Markdown para enumerar lenguajes de ciencia de datos**"
      ],
      "metadata": {
        "id": "l_d5eB3CosWX"
      }
    },
    {
      "cell_type": "markdown",
      "source": [
        "Some of the popular languages that Data Scientists use are:\n",
        "1. Python\n",
        "2. R\n",
        "3. SQL\n",
        "4. Julia\n",
        "5. Java\n"
      ],
      "metadata": {
        "id": "TD30bKhZl8FB"
      }
    },
    {
      "cell_type": "markdown",
      "source": [
        "**Ejercicio 5: Creación de una celda de Markdown para enumerar bibliotecas de ciencia de datos**"
      ],
      "metadata": {
        "id": "feVYwIghoup_"
      }
    },
    {
      "cell_type": "markdown",
      "source": [
        "Some of the commonly used libraries used by Data Scientists include:\n",
        "1.   Pandas\n",
        "2.   NumPy\n",
        "3.   Scikit-learn\n",
        "4.   TensorFlow\n",
        "5.   Matplotlib\n",
        "\n"
      ],
      "metadata": {
        "id": "dRKenpQ_mVT4"
      }
    },
    {
      "cell_type": "markdown",
      "source": [
        "**Ejercicio 6: creación de una celda de Markdown con una tabla de herramientas de ciencia de datos**"
      ],
      "metadata": {
        "id": "EcNE10E-o3Nn"
      }
    },
    {
      "cell_type": "markdown",
      "source": [
        "| Data Science Tools |\n",
        "|--------------------|\n",
        "| Jupyter Notebook   |\n",
        "| RStudio            |\n",
        "| Apache Zeppelin    |\n"
      ],
      "metadata": {
        "id": "1PrqN2n6mjh7"
      }
    },
    {
      "cell_type": "markdown",
      "source": [
        "**Ejercicio 7 - Crear una celda de Markdown introduciendo ejemplos de expresiones aritméticas**"
      ],
      "metadata": {
        "id": "NogAOMLno7Vw"
      }
    },
    {
      "cell_type": "markdown",
      "source": [
        "### Below are a few examples of evaluating arithmetic expressions in Python.\n"
      ],
      "metadata": {
        "id": "jrUxxP7BmlmX"
      }
    },
    {
      "cell_type": "markdown",
      "source": [
        "**Ejercicio 8 - Crea una celda de código para multiplicar y sumar números**"
      ],
      "metadata": {
        "id": "5yBKQiUmo93U"
      }
    },
    {
      "cell_type": "code",
      "source": [
        "# Esta es una expresión aritmética simple para luego agregar números enteros.\n",
        "(3*4)+5"
      ],
      "metadata": {
        "colab": {
          "base_uri": "https://localhost:8080/"
        },
        "id": "y8TODqBcnLX7",
        "outputId": "76c32775-756e-417d-fc0b-27e63808673e"
      },
      "execution_count": 1,
      "outputs": [
        {
          "output_type": "execute_result",
          "data": {
            "text/plain": [
              "17"
            ]
          },
          "metadata": {},
          "execution_count": 1
        }
      ]
    },
    {
      "cell_type": "markdown",
      "source": [
        "**Ejercicio 9 - Crear una celda de código para convertir minutos en horas**"
      ],
      "metadata": {
        "id": "9AN8vEkVpEuC"
      }
    },
    {
      "cell_type": "code",
      "source": [
        "# Esto convertirá 200 minutos en horas dividiendo entre 60.\n",
        "200 / 60"
      ],
      "metadata": {
        "colab": {
          "base_uri": "https://localhost:8080/"
        },
        "id": "3sn-IX3VnOMq",
        "outputId": "1265ac9e-42c5-44fd-ca45-f36af1bc2380"
      },
      "execution_count": 2,
      "outputs": [
        {
          "output_type": "execute_result",
          "data": {
            "text/plain": [
              "3.3333333333333335"
            ]
          },
          "metadata": {},
          "execution_count": 2
        }
      ]
    },
    {
      "cell_type": "markdown",
      "source": [
        "**Ejercicio 10 - Insertar una celda de Markdown para enumerar los objetivos**"
      ],
      "metadata": {
        "id": "IJNPflB8pM9_"
      }
    },
    {
      "cell_type": "markdown",
      "source": [
        "**Objetivos:**\n",
        "- Enumerar los lenguajes más populares para la ciencia de datos\n",
        "- Enumerar las bibliotecas más utilizadas en la ciencia de datos\n",
        "- Crear una tabla de herramientas de la ciencia de datos\n",
        "- Demostrar operaciones aritméticas básicas en Python\n"
      ],
      "metadata": {
        "id": "Cv5QOO5hmsMc"
      }
    },
    {
      "cell_type": "markdown",
      "source": [
        "**Ejercicio 11 - Cree una celda de Markdown para indicar el nombre del autor**"
      ],
      "metadata": {
        "id": "YZFLjI3QpQ6g"
      }
    },
    {
      "cell_type": "markdown",
      "source": [
        "## Author\n",
        "Darlin Huaman\n"
      ],
      "metadata": {
        "id": "VGQSb52gmt8Z"
      }
    }
  ]
}